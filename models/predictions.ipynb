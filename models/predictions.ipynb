{
 "cells": [
  {
   "cell_type": "code",
   "execution_count": 1,
   "id": "7991becd",
   "metadata": {},
   "outputs": [],
   "source": [
    "import os\n",
    "import cv2\n",
    "import numpy as np\n",
    "from keras.models import load_model\n",
    "import matplotlib.pyplot as plt\n",
    "import tensorflow as tf"
   ]
  },
  {
   "cell_type": "code",
   "execution_count": 2,
   "id": "8f6b12ff",
   "metadata": {
    "scrolled": true
   },
   "outputs": [],
   "source": [
    "# Define the classes (should match the training classes)\n",
    "\n",
    "classes= ['NORMAL', 'PNEUMONIA']"
   ]
  },
  {
   "cell_type": "code",
   "execution_count": 3,
   "id": "37237703",
   "metadata": {},
   "outputs": [],
   "source": [
    "# Load the saved model\n",
    "model = load_model('resnet.h5')"
   ]
  },
  {
   "cell_type": "code",
   "execution_count": 13,
   "id": "c3f9b455",
   "metadata": {},
   "outputs": [
    {
     "name": "stdout",
     "output_type": "stream",
     "text": [
      "1/1 [==============================] - 0s 20ms/step\n",
      "Predicted Probabilities: [[1. 0.]]\n",
      "Predicted Probabilities: [0]\n",
      "NORMAL\n"
     ]
    }
   ],
   "source": [
    "def predict_image(image_path):\n",
    "    img = tf.keras.preprocessing.image.load_img(image_path, target_size=(124, 124))\n",
    "    x=np.array(img)\n",
    "    img_expanded=np.expand_dims(x, axis=0)\n",
    "    prediction = model.predict(img_expanded)\n",
    "\n",
    "        # Step 4: Display the raw probabilities\n",
    "    print(\"Predicted Probabilities:\", prediction)\n",
    "\n",
    "        # Step 5: Convert predicted probabilities to class labels\n",
    "    predicted_class = np.argmax(prediction, axis=1)\n",
    "    print(\"Predicted Probabilities:\", predicted_class)\n",
    "\n",
    "        # Return the original image and predicted class\n",
    "    return img, classes[predicted_class[0]]\n",
    "\n",
    "# Path to the single image you want to predict\n",
    "#'C:/Users/divesh\\Desktop\\Mytegen\\nemonia\\data\\chest_xray\\test\\PNEUMONIA'\n",
    "image_path = r\"C:/Users/divesh/Desktop/Mytegen/nemonia/data/chest_xray/TRAIN/NORMAL/IM-0222-0001.jpeg\"  # Update this path to your test image\n",
    "\n",
    "# Make the prediction\n",
    "image, predicted_label = predict_image(image_path)\n",
    "\n",
    "print(predicted_label)"
   ]
  },
  {
   "cell_type": "code",
   "execution_count": 20,
   "id": "a37cb9a8",
   "metadata": {},
   "outputs": [
    {
     "name": "stdout",
     "output_type": "stream",
     "text": [
      "1/1 [==============================] - 0s 192ms/step\n",
      "The predicted class for the image is: PNEUMONIA\n"
     ]
    }
   ],
   "source": [
    "import numpy as np\n",
    "from tensorflow.keras.preprocessing import image\n",
    "from tensorflow.keras.applications.resnet50 import preprocess_input\n",
    "\n",
    "\n",
    "\n",
    "# Function to predict a single image\n",
    "def predict_image(model, image_path, class_indices):\n",
    "    \"\"\"\n",
    "    Predict the class of a new image using the trained ResNet model.\n",
    "\n",
    "    Parameters:\n",
    "    - model: Trained ResNet model.\n",
    "    - image_path: Path to the image file.\n",
    "    - class_indices: Dictionary mapping class labels to indices (e.g., {'NORMAL': 0, 'PNEUMONIA': 1}).\n",
    "\n",
    "    Returns:\n",
    "    - Prediction: Class label for the image.\n",
    "    \"\"\"\n",
    "    # Load the image and resize it to match model input shape\n",
    "    img = image.load_img(image_path, target_size=(124, 124))  # Input shape (124, 124, 3)\n",
    "    img_array = image.img_to_array(img)  # Convert to numpy array\n",
    "    img_array = np.expand_dims(img_array, axis=0)  # Add batch dimension\n",
    "    img_array = preprocess_input(img_array)  # Preprocess the image\n",
    "\n",
    "    # Perform prediction\n",
    "    predictions = model.predict(img_array)\n",
    "    predicted_class_index = np.argmax(predictions, axis=1)[0]\n",
    "\n",
    "    # Map the predicted index back to the class label\n",
    "    class_labels = {v: k for k, v in class_indices.items()}  # Reverse the dictionary\n",
    "    predicted_label = class_labels[predicted_class_index]\n",
    "    \n",
    "    return predicted_label\n",
    "\n",
    "# Example usage\n",
    "\n",
    "# Load the saved model\n",
    "resnet_model = load_model('resnet.h5')\n",
    "image_path = 'C:/Users/divesh/Desktop/Mytegen/nemonia/data/chest_xray/TRAIN/PNEUMONIA/person26_bacteria_129.jpeg'  # Replace with the path to your image\n",
    "class_indices = {'NORMAL': 0, 'PNEUMONIA': 1}  # Adjust based on your dataset\n",
    "\n",
    "# Use this dictionary instead of `train_generator.class_indices` in your code:\n",
    "predicted_label = predict_image(resnet_model, image_path, class_indices)\n",
    "\n",
    "print(f\"The predicted class for the image is: {predicted_label}\")\n"
   ]
  },
  {
   "cell_type": "code",
   "execution_count": null,
   "id": "78f19eb5",
   "metadata": {},
   "outputs": [],
   "source": []
  }
 ],
 "metadata": {
  "kernelspec": {
   "display_name": "Python 3 (ipykernel)",
   "language": "python",
   "name": "python3"
  },
  "language_info": {
   "codemirror_mode": {
    "name": "ipython",
    "version": 3
   },
   "file_extension": ".py",
   "mimetype": "text/x-python",
   "name": "python",
   "nbconvert_exporter": "python",
   "pygments_lexer": "ipython3",
   "version": "3.10.9"
  }
 },
 "nbformat": 4,
 "nbformat_minor": 5
}
