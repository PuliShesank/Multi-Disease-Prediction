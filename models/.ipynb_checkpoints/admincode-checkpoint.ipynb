{
 "cells": [
  {
   "cell_type": "code",
   "execution_count": 1,
   "id": "21a1afb3-877b-4c51-9896-bb8f2716286c",
   "metadata": {},
   "outputs": [
    {
     "name": "stdout",
     "output_type": "stream",
     "text": [
      "Collecting mysql-connector-python\n",
      "  Downloading mysql_connector_python-9.2.0-cp310-cp310-win_amd64.whl.metadata (6.2 kB)\n",
      "Downloading mysql_connector_python-9.2.0-cp310-cp310-win_amd64.whl (16.1 MB)\n",
      "   ---------------------------------------- 0.0/16.1 MB ? eta -:--:--\n",
      "   - -------------------------------------- 0.5/16.1 MB 3.4 MB/s eta 0:00:05\n",
      "   ---------------- ----------------------- 6.8/16.1 MB 21.0 MB/s eta 0:00:01\n",
      "   ------------------------------ --------- 12.3/16.1 MB 24.1 MB/s eta 0:00:01\n",
      "   ------------------------------------- -- 14.9/16.1 MB 20.9 MB/s eta 0:00:01\n",
      "   ---------------------------------------  15.7/16.1 MB 18.0 MB/s eta 0:00:01\n",
      "   ---------------------------------------- 16.1/16.1 MB 14.1 MB/s eta 0:00:00\n",
      "Installing collected packages: mysql-connector-python\n",
      "Successfully installed mysql-connector-python-9.2.0\n",
      "Note: you may need to restart the kernel to use updated packages.\n"
     ]
    }
   ],
   "source": [
    "pip install mysql-connector-python"
   ]
  },
  {
   "cell_type": "code",
   "execution_count": 3,
   "id": "4fef9821-903a-420f-9e00-3cd0f6cc8fd5",
   "metadata": {},
   "outputs": [
    {
     "name": "stdout",
     "output_type": "stream",
     "text": [
      "Admin admin added successfully!\n"
     ]
    }
   ],
   "source": [
    "import mysql.connector\n",
    "import bcrypt\n",
    "\n",
    "# MySQL connection details\n",
    "conn = mysql.connector.connect(\n",
    "    host=\"localhost\",\n",
    "    user=\"root\",\n",
    "    password=\"root\",\n",
    "    database=\"multi_disease_prediction\"\n",
    ")\n",
    "\n",
    "try:\n",
    "    # New admin details\n",
    "    username = \"admin\"\n",
    "    admin_password = \"admin\"\n",
    "    role = \"admin\"\n",
    "\n",
    "    # Hash the password\n",
    "    hashed_password = bcrypt.hashpw(admin_password.encode('utf-8'), bcrypt.gensalt()).decode('utf-8')\n",
    "\n",
    "    # Insert the admin record\n",
    "    cursor = conn.cursor()\n",
    "    query = \"\"\"\n",
    "    INSERT INTO admin (username, password, role, created_at)\n",
    "    VALUES (%s, %s, %s, NOW());\n",
    "    \"\"\"\n",
    "    cursor.execute(query, (username, hashed_password, role))\n",
    "    conn.commit()\n",
    "\n",
    "    print(f\"Admin {username} added successfully!\")\n",
    "\n",
    "except Exception as e:\n",
    "    print(f\"Error: {str(e)}\")\n",
    "finally:\n",
    "    conn.close()"
   ]
  },
  {
   "cell_type": "code",
   "execution_count": null,
   "id": "000d1465-67a3-40f8-94c8-27e38a37f28f",
   "metadata": {},
   "outputs": [],
   "source": []
  }
 ],
 "metadata": {
  "kernelspec": {
   "display_name": "Python 3 (ipykernel)",
   "language": "python",
   "name": "python3"
  },
  "language_info": {
   "codemirror_mode": {
    "name": "ipython",
    "version": 3
   },
   "file_extension": ".py",
   "mimetype": "text/x-python",
   "name": "python",
   "nbconvert_exporter": "python",
   "pygments_lexer": "ipython3",
   "version": "3.10.16"
  }
 },
 "nbformat": 4,
 "nbformat_minor": 5
}
